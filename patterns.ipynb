{
 "cells": [
  {
   "cell_type": "code",
   "execution_count": 1,
   "id": "50335bea",
   "metadata": {},
   "outputs": [
    {
     "ename": "NameError",
     "evalue": "name 'rgb' is not defined",
     "output_type": "error",
     "traceback": [
      "\u001b[1;31m---------------------------------------------------------------------------\u001b[0m",
      "\u001b[1;31mNameError\u001b[0m                                 Traceback (most recent call last)",
      "\u001b[1;32mC:\\Users\\ADMIN-~1\\AppData\\Local\\Temp/ipykernel_6500/4256879474.py\u001b[0m in \u001b[0;36m<module>\u001b[1;34m\u001b[0m\n\u001b[0;32m     29\u001b[0m     \u001b[0mV\u001b[0m \u001b[1;33m=\u001b[0m \u001b[1;33m(\u001b[0m\u001b[1;36m1.\u001b[0m \u001b[1;33m+\u001b[0m \u001b[0mnp\u001b[0m\u001b[1;33m.\u001b[0m\u001b[0mabs\u001b[0m\u001b[1;33m(\u001b[0m\u001b[0mnp\u001b[0m\u001b[1;33m.\u001b[0m\u001b[0mcos\u001b[0m\u001b[1;33m(\u001b[0m\u001b[1;36m2.\u001b[0m \u001b[1;33m*\u001b[0m \u001b[0mnp\u001b[0m\u001b[1;33m.\u001b[0m\u001b[0mpi\u001b[0m \u001b[1;33m*\u001b[0m \u001b[0mr\u001b[0m \u001b[1;33m*\u001b[0m \u001b[0mrandom\u001b[0m\u001b[1;33m.\u001b[0m\u001b[0muniform\u001b[0m\u001b[1;33m(\u001b[0m\u001b[1;33m-\u001b[0m\u001b[1;36m1.0\u001b[0m\u001b[1;33m,\u001b[0m \u001b[1;36m1.0\u001b[0m\u001b[1;33m)\u001b[0m\u001b[1;33m)\u001b[0m\u001b[1;33m)\u001b[0m\u001b[1;33m)\u001b[0m \u001b[1;33m/\u001b[0m \u001b[1;36m2.\u001b[0m\u001b[1;33m\u001b[0m\u001b[1;33m\u001b[0m\u001b[0m\n\u001b[0;32m     30\u001b[0m \u001b[1;33m\u001b[0m\u001b[0m\n\u001b[1;32m---> 31\u001b[1;33m     \u001b[0mnorm\u001b[0m\u001b[1;33m=\u001b[0m\u001b[0mrgb\u001b[0m\u001b[1;33m.\u001b[0m\u001b[0mcopy\u001b[0m\u001b[1;33m(\u001b[0m\u001b[1;33m)\u001b[0m\u001b[1;33m\u001b[0m\u001b[1;33m\u001b[0m\u001b[0m\n\u001b[0m\u001b[0;32m     32\u001b[0m     \u001b[0mrgb\u001b[0m\u001b[1;33m=\u001b[0m\u001b[0mcv2\u001b[0m\u001b[1;33m.\u001b[0m\u001b[0mnormalize\u001b[0m\u001b[1;33m(\u001b[0m\u001b[0mhsv_to_rgb\u001b[0m\u001b[1;33m(\u001b[0m\u001b[0mnp\u001b[0m\u001b[1;33m.\u001b[0m\u001b[0mdstack\u001b[0m\u001b[1;33m(\u001b[0m\u001b[1;33m(\u001b[0m\u001b[0mH\u001b[0m\u001b[1;33m,\u001b[0m \u001b[0mS\u001b[0m\u001b[1;33m,\u001b[0m \u001b[0mV\u001b[0m\u001b[1;33m)\u001b[0m\u001b[1;33m)\u001b[0m\u001b[1;33m)\u001b[0m\u001b[1;33m,\u001b[0m  \u001b[0mnorm\u001b[0m\u001b[1;33m,\u001b[0m \u001b[1;36m0\u001b[0m\u001b[1;33m,\u001b[0m \u001b[1;36m255\u001b[0m\u001b[1;33m,\u001b[0m \u001b[0mcv2\u001b[0m\u001b[1;33m.\u001b[0m\u001b[0mNORM_MINMAX\u001b[0m\u001b[1;33m)\u001b[0m\u001b[1;33m\u001b[0m\u001b[1;33m\u001b[0m\u001b[0m\n\u001b[0;32m     33\u001b[0m     \u001b[0mcnt\u001b[0m\u001b[1;33m+=\u001b[0m\u001b[1;36m1\u001b[0m\u001b[1;33m\u001b[0m\u001b[1;33m\u001b[0m\u001b[0m\n",
      "\u001b[1;31mNameError\u001b[0m: name 'rgb' is not defined"
     ]
    }
   ],
   "source": [
    "import numpy as np\n",
    "import cv2\n",
    "import random\n",
    "from matplotlib import pyplot as plt\n",
    "from matplotlib.colors import hsv_to_rgb\n",
    "\n",
    "w=96*10\n",
    "h=96*7\n",
    "\n",
    "path = \"C:/projets/oktal-se/patterns/\"\n",
    "cnt=0\n",
    "for a in np.linspace(0, 2 * np.pi, 300, endpoint=False):\n",
    "    x = 3.0*np.sin(np.linspace(-np.pi, np.pi, w))\n",
    "    y = 3.0*np.sin(np.linspace(-np.pi, np.pi, h))\n",
    "    X, Y = np.meshgrid(x, y)\n",
    "    X=np.roll(X, random.randint(0, w), axis=0)\n",
    "    X=np.roll(X, random.randint(0, h), axis=1)\n",
    "    Y=np.roll(Y, random.randint(0, w), axis=0)\n",
    "    Y=np.roll(Y, random.randint(0, h), axis=1)\n",
    "    x = X + 1j * Y\n",
    "    y = (x ** 2 - 2.5) * (x - 2.5 * 1j) * (x + 2.5 * 1j) \\\n",
    "        * (x - 2 - 1j) ** 2 / ((x - np.exp(1j * a)) ** 2\n",
    "        * (x - np.exp(1j * 2 * a)) ** 2)\n",
    "    angle=np.angle(y+np.pi)\n",
    "\n",
    "    H = (angle / (2 * np.pi) + .5)**random.uniform(0.0, 1.0)\n",
    "    r = np.log2(1. + np.abs(y))\n",
    "    S = (1. + np.abs(np.sin(2. * np.pi * r * random.uniform(-1.0, 1.0)))) / 2.\n",
    "    V = (1. + np.abs(np.cos(2. * np.pi * r * random.uniform(-1.0, 1.0)))) / 2.\n",
    "\n",
    "    norm=rgb.copy()\n",
    "    rgb=cv2.normalize(hsv_to_rgb(np.dstack((H, S, V))),  norm, 0, 255, cv2.NORM_MINMAX)\n",
    "    cnt+=1\n",
    "    print(path+ \"dazzler\" + str(cnt)+\".png\")\n",
    "    cv2.imwrite(path+ \"dazzle\" + str(cnt)+\".png\",norm)\n",
    "    \n",
    "    H = (angle / (2 * np.pi) + .5)*random.uniform(0.0, 1.0)\n",
    "    r = np.log2(1. + np.abs(y))\n",
    "    S = (1. + np.abs(np.sin(2. * np.pi * r * random.uniform(-1.0, 1.0)))) / 2.\n",
    "    V = (1. + np.abs(np.cos(2. * np.pi * r * random.uniform(-1.0, 1.0)))) / 2.\n",
    "\n",
    "    norm=rgb.copy()\n",
    "    rgb=cv2.normalize(hsv_to_rgb(np.dstack((H, S, V))),  norm, 0, 255, cv2.NORM_MINMAX)\n",
    "    cnt+=1\n",
    "    print(path+ \"dazzleg\" + str(cnt)+\".png\")\n",
    "    cv2.imwrite(path+ \"dazzle\" + str(cnt)+\".png\",norm)\n",
    " "
   ]
  },
  {
   "cell_type": "code",
   "execution_count": 38,
   "id": "87721585",
   "metadata": {},
   "outputs": [
    {
     "name": "stdout",
     "output_type": "stream",
     "text": [
      "done\n"
     ]
    }
   ],
   "source": [
    "print('done')"
   ]
  },
  {
   "cell_type": "code",
   "execution_count": null,
   "id": "71152ca4",
   "metadata": {},
   "outputs": [],
   "source": [
    "from PIL import Image\n",
    "import colorsys\n",
    "import math\n",
    "\n",
    "cx = 0.7885\n",
    "cy = 0\n",
    "R = (1+(1+4*(cx**2+cy**2)**0.5)**0.5)/2+0.001\n",
    "max_iteration = 200\n",
    "\n",
    "w, h, zoom = 1000,1000,1\n",
    "\n",
    "def julia(cx,cy,R,max_iteration,x,y,minx,maxx,miny,maxy):\n",
    "    zx = (x-minx)/(maxx-minx)*2*R-R\n",
    "    zy = (y-miny)/(maxy-miny)*2*R-R\n",
    "    i=0\n",
    "    while zx**2 + zy**2 < R**2 and i < max_iteration:\n",
    "        temp = zx**2 - zy**2\n",
    "        zy = 2*zx*zy + cy\n",
    "        zx = temp + cx\n",
    "        i += 1\n",
    "    return i\n",
    "\n",
    "def gen_julia_image(sequence,cx,cy):\n",
    "  bitmap = Image.new(\"RGB\", (w, h), \"white\")\n",
    "  pix = bitmap.load()\n",
    "  for x in range(w):\n",
    "    for y in range(h):\n",
    "        c=julia(cx,cy,R,max_iteration,x,y,0,w-1,0,h-1)\n",
    "        r = np.log2(1. + np.abs(c))\n",
    "        S = (1. + np.abs(np.sin(2. * np.pi * r))) / 2.\n",
    "        V = (1. + np.abs(np.cos(2. * np.pi * r))) / 2.\n",
    "        r,g,b = colorsys.hsv_to_rgb(c/max_iteration,S,V)\n",
    "        r = min(255,round(r*255))\n",
    "        g = min(255,round(g*255))\n",
    "        b = min(255,round(b*255))\n",
    "        pix[x,y] = int(b) + (int(g) << 8) + (int(r) << 16)\n",
    "  bitmap.save(\"julia_\"+str(sequence)+\".jpg\")\n",
    "\n",
    "\n",
    "for i in range(360):\n",
    "  cx = 0.7885*math.cos(i*math.pi/180)\n",
    "  cy = 0.7885*math.sin(i*math.pi/180)\n",
    "  gen_julia_image(i,cx,cy)"
   ]
  }
 ],
 "metadata": {
  "kernelspec": {
   "display_name": "Python 3 (ipykernel)",
   "language": "python",
   "name": "python3"
  },
  "language_info": {
   "codemirror_mode": {
    "name": "ipython",
    "version": 3
   },
   "file_extension": ".py",
   "mimetype": "text/x-python",
   "name": "python",
   "nbconvert_exporter": "python",
   "pygments_lexer": "ipython3",
   "version": "3.9.7"
  }
 },
 "nbformat": 4,
 "nbformat_minor": 5
}
